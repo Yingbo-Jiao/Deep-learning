{
 "cells": [
  {
   "cell_type": "markdown",
   "id": "3bbb6cbf",
   "metadata": {},
   "source": [
    "### Data processing"
   ]
  },
  {
   "cell_type": "code",
   "execution_count": 18,
   "id": "bbe0cea9",
   "metadata": {
    "scrolled": true
   },
   "outputs": [],
   "source": [
    "from sklearn.preprocessing import LabelEncoder\n",
    "import pandas as pd\n",
    "\n",
    "def encode_categorical(df):\n",
    "    label_encoder = LabelEncoder()\n",
    "    for column in df.columns:\n",
    "        if df[column].dtype == 'object':\n",
    "            df[column] = label_encoder.fit_transform(df[column])\n",
    "        elif df[column].dtype == 'float64' or df[column].dtype == 'int64':\n",
    "            df[column] = df[column].fillna(df[column].mean())\n",
    "    return df\n",
    "\n",
    "df1 = pd.read_csv('train.csv')\n",
    "df1 = encode_categorical(df1)\n"
   ]
  },
  {
   "cell_type": "markdown",
   "id": "581c6a17",
   "metadata": {},
   "source": [
    "### Building dataset"
   ]
  },
  {
   "cell_type": "code",
   "execution_count": 19,
   "id": "f262afc0",
   "metadata": {},
   "outputs": [
    {
     "data": {
      "text/plain": [
       "1168"
      ]
     },
     "execution_count": 19,
     "metadata": {},
     "output_type": "execute_result"
    }
   ],
   "source": [
    "from sklearn.model_selection import train_test_split\n",
    "import torch.utils.data as Data\n",
    "import torch\n",
    "\n",
    "\n",
    "batch_sizes = 32\n",
    "\n",
    "x = df1.iloc[:,1:-1]\n",
    "y= df1.iloc[:,-1:]\n",
    "x_train, x_test, y_train, y_test = train_test_split(x, y, test_size=0.2, random_state=2004)\n",
    "\n",
    "x_train_tensor = torch.FloatTensor(x_train.values)\n",
    "y_train_tensor = torch.FloatTensor(y_train.values)\n",
    "x_test_tensor = torch.FloatTensor(x_test.values)\n",
    "y_test_tensor = torch.FloatTensor(y_test.values)\n",
    "\n",
    "train_dataset = Data.TensorDataset(x_train_tensor, y_train_tensor)\n",
    "test_dataset = Data.TensorDataset(x_test_tensor, y_test_tensor)\n",
    "\n",
    "train_dataloader = Data.DataLoader(train_dataset,batch_sizes,shuffle=True)\n",
    "test_dataloader = Data.DataLoader(test_dataset,batch_sizes,shuffle=True)\n",
    "len(train_dataset)"
   ]
  },
  {
   "cell_type": "markdown",
   "id": "e74eed53",
   "metadata": {},
   "source": [
    "### Model building"
   ]
  },
  {
   "cell_type": "code",
   "execution_count": 20,
   "id": "a45ed41c",
   "metadata": {},
   "outputs": [],
   "source": [
    "import torch.nn as nn\n",
    "\n",
    "class LinearNet(nn.Module):\n",
    "    def __init__(self, in_features, out_features):\n",
    "        super().__init__()\n",
    "        self.linear_1 = nn.Linear(in_features, 40)  # nn.Module\n",
    "        self.linear_2 = nn.Linear(40, 10)\n",
    "        self.linear_3 = nn.Linear(10, out_features)\n",
    "        self.sigmoid = nn.Sigmoid()  \n",
    "        \n",
    "    def forward(self, x):\n",
    "        x = self.linear_1(x)\n",
    "#         x = self.sigmoid(x)  \n",
    "        x = self.linear_2(x)\n",
    "#         x = self.sigmoid(x)\n",
    "        x = self.linear_3(x)\n",
    "        return x\n"
   ]
  },
  {
   "cell_type": "markdown",
   "id": "f9c0a17c",
   "metadata": {},
   "source": [
    "### Parameter determination\n"
   ]
  },
  {
   "cell_type": "code",
   "execution_count": 21,
   "id": "e11e4312",
   "metadata": {},
   "outputs": [],
   "source": [
    "import torch.optim as optim\n",
    "\n",
    "device = torch.device(\"cuda\" if torch.cuda.is_available() else \"cpu\")\n",
    "model = LinearNet(79,1).to(device)\n",
    "loss = nn.MSELoss()\n",
    "optimizer = optim.Adam(model.parameters(),lr=1e-3)\n"
   ]
  },
  {
   "cell_type": "markdown",
   "id": "0e19643f",
   "metadata": {},
   "source": [
    "### Model training"
   ]
  },
  {
   "cell_type": "code",
   "execution_count": 22,
   "id": "bd714e3f",
   "metadata": {},
   "outputs": [],
   "source": [
    "\n",
    "def train_model(model,dataloader):\n",
    "    model.train()\n",
    "    \n",
    "    total_loss = 0\n",
    "    for idx,(x,y) in enumerate(dataloader):\n",
    "        x = x.to(device)\n",
    "        y = y.to(device)\n",
    "        y_pred = model(x)\n",
    "        cur_loss = loss(y_pred,y)\n",
    "        optimizer.zero_grad()\n",
    "        cur_loss.backward()\n",
    "        optimizer.step()\n",
    "        \n",
    "        total_loss += cur_loss.item()\n",
    "    print(f\"train loss:{total_loss/len(train_dataset)}\")\n",
    "    "
   ]
  },
  {
   "cell_type": "markdown",
   "id": "fdcd3b99",
   "metadata": {
    "scrolled": false
   },
   "source": [
    "# Model testing"
   ]
  },
  {
   "cell_type": "code",
   "execution_count": 23,
   "id": "4aff9460",
   "metadata": {},
   "outputs": [],
   "source": [
    "\n",
    "def test_model(model, dataloader):\n",
    "    model.eval()\n",
    "\n",
    "    total_loss = 0.\n",
    "    for idx, (x, y) in enumerate(dataloader):\n",
    "        x = x.to(device)\n",
    "        y = y.to(device)\n",
    "        y_pred = model(x)\n",
    "        cur_loss = loss(y_pred, y)\n",
    "        total_loss += cur_loss.item()\n",
    "    print(f\"Test loss: {total_loss/len(test_dataset)}\")"
   ]
  },
  {
   "cell_type": "code",
   "execution_count": null,
   "id": "4d04abf8",
   "metadata": {},
   "outputs": [],
   "source": []
  },
  {
   "cell_type": "code",
   "execution_count": 24,
   "id": "1a7fc4d4",
   "metadata": {},
   "outputs": [
    {
     "name": "stdout",
     "output_type": "stream",
     "text": [
      "==== Epoch 0 ====\n",
      "train loss:1177021904.6575344\n",
      "Test loss: 1366200754.8493152\n",
      "==== Epoch 1 ====\n",
      "train loss:1067317121.7534246\n",
      "Test loss: 1084767996.4931507\n",
      "==== Epoch 2 ====\n",
      "train loss:745308767.5616438\n",
      "Test loss: 643709794.1917808\n",
      "==== Epoch 3 ====\n",
      "train loss:374429088.2191781\n",
      "Test loss: 323084168.7671233\n",
      "==== Epoch 4 ====\n",
      "train loss:226155368.98630136\n",
      "Test loss: 235693242.30136988\n",
      "==== Epoch 5 ====\n",
      "train loss:203073137.42465752\n",
      "Test loss: 242013528.5479452\n",
      "==== Epoch 6 ====\n",
      "train loss:187340298.95890412\n",
      "Test loss: 218652483.50684932\n",
      "==== Epoch 7 ====\n",
      "train loss:176701946.30136988\n",
      "Test loss: 206658525.80821916\n",
      "==== Epoch 8 ====\n",
      "train loss:176453687.23287672\n",
      "Test loss: 203325671.4520548\n",
      "==== Epoch 9 ====\n",
      "train loss:155728964.49315068\n",
      "Test loss: 205692983.67123288\n",
      "==== Epoch 10 ====\n",
      "train loss:147139885.26027396\n",
      "Test loss: 207025205.9178082\n",
      "==== Epoch 11 ====\n",
      "train loss:139402169.6438356\n",
      "Test loss: 189641487.78082192\n",
      "==== Epoch 12 ====\n",
      "train loss:133565097.20547946\n",
      "Test loss: 165795030.13698632\n",
      "==== Epoch 13 ====\n",
      "train loss:128163031.34246576\n",
      "Test loss: 165990997.04109588\n",
      "==== Epoch 14 ====\n",
      "train loss:123678427.7260274\n",
      "Test loss: 177250787.94520548\n",
      "==== Epoch 15 ====\n",
      "train loss:119045021.42465754\n",
      "Test loss: 152430388.60273972\n",
      "==== Epoch 16 ====\n",
      "train loss:115149599.78082192\n",
      "Test loss: 156280836.8219178\n",
      "==== Epoch 17 ====\n",
      "train loss:109821496.5479452\n",
      "Test loss: 283565987.5068493\n",
      "==== Epoch 18 ====\n",
      "train loss:107681029.15068494\n",
      "Test loss: 145394152.76712328\n",
      "==== Epoch 19 ====\n",
      "train loss:103119916.8219178\n",
      "Test loss: 156526302.68493152\n",
      "==== Epoch 20 ====\n",
      "train loss:100148649.20547946\n",
      "Test loss: 143870833.97260273\n",
      "==== Epoch 21 ====\n",
      "train loss:97967185.26027398\n",
      "Test loss: 142753582.02739727\n",
      "==== Epoch 22 ====\n",
      "train loss:96117397.47945206\n",
      "Test loss: 147782882.19178084\n",
      "==== Epoch 23 ====\n",
      "train loss:94883983.89041096\n",
      "Test loss: 134864911.78082192\n",
      "==== Epoch 24 ====\n",
      "train loss:89609031.01369864\n",
      "Test loss: 135787115.83561644\n",
      "==== Epoch 25 ====\n",
      "train loss:87785355.89041096\n",
      "Test loss: 126982955.83561644\n",
      "==== Epoch 26 ====\n",
      "train loss:85272129.15068494\n",
      "Test loss: 129692160.43835616\n",
      "==== Epoch 27 ====\n",
      "train loss:83057369.3150685\n",
      "Test loss: 127743459.50684932\n",
      "==== Epoch 28 ====\n",
      "train loss:81227655.67123288\n",
      "Test loss: 122515096.76712328\n",
      "==== Epoch 29 ====\n",
      "train loss:79957813.26027398\n",
      "Test loss: 124278122.9589041\n",
      "==== Epoch 30 ====\n",
      "train loss:77531516.93150684\n",
      "Test loss: 118820608.87671232\n",
      "==== Epoch 31 ====\n",
      "train loss:75433324.32876712\n",
      "Test loss: 117848205.36986302\n",
      "==== Epoch 32 ====\n",
      "train loss:74743803.78082192\n",
      "Test loss: 116201696.43835616\n",
      "==== Epoch 33 ====\n",
      "train loss:72665677.09589042\n",
      "Test loss: 115277918.46575342\n",
      "==== Epoch 34 ====\n",
      "train loss:70120283.61643836\n",
      "Test loss: 120765006.02739726\n",
      "==== Epoch 35 ====\n",
      "train loss:68294604.8219178\n",
      "Test loss: 113703831.01369864\n",
      "==== Epoch 36 ====\n",
      "train loss:67178025.5890411\n",
      "Test loss: 112364092.49315068\n",
      "==== Epoch 37 ====\n",
      "train loss:65829091.61643836\n",
      "Test loss: 121846824.76712328\n",
      "==== Epoch 38 ====\n",
      "train loss:64611086.95890411\n",
      "Test loss: 138153964.49315068\n",
      "==== Epoch 39 ====\n",
      "train loss:62429879.28767123\n",
      "Test loss: 115912855.89041096\n",
      "==== Epoch 40 ====\n",
      "train loss:61442437.69863014\n",
      "Test loss: 112604754.84931506\n",
      "==== Epoch 41 ====\n",
      "train loss:60396406.19178082\n",
      "Test loss: 111097797.26027398\n",
      "==== Epoch 42 ====\n",
      "train loss:59345446.49315068\n",
      "Test loss: 109742035.39726028\n",
      "==== Epoch 43 ====\n",
      "train loss:57482367.7260274\n",
      "Test loss: 113428098.84931506\n",
      "==== Epoch 44 ====\n",
      "train loss:57143495.67123288\n",
      "Test loss: 123852192.0\n",
      "==== Epoch 45 ====\n",
      "train loss:55901863.23287671\n",
      "Test loss: 113484958.02739726\n",
      "==== Epoch 46 ====\n",
      "train loss:54624580.02739726\n",
      "Test loss: 112772670.6849315\n",
      "==== Epoch 47 ====\n",
      "train loss:54033063.12328767\n",
      "Test loss: 110091643.42465754\n",
      "==== Epoch 48 ====\n",
      "train loss:53107635.83561644\n",
      "Test loss: 114338310.57534246\n",
      "==== Epoch 49 ====\n",
      "train loss:52445528.2739726\n",
      "Test loss: 115639222.57534246\n"
     ]
    },
    {
     "data": {
      "text/plain": [
       "<function matplotlib.pyplot.show(close=None, block=None)>"
      ]
     },
     "execution_count": 24,
     "metadata": {},
     "output_type": "execute_result"
    },
    {
     "data": {
      "image/png": "[encoded data removed]",
      "text/plain": [
       "<Figure size 432x288 with 1 Axes>"
      ]
     },
     "metadata": {
      "needs_background": "light"
     },
     "output_type": "display_data"
    }
   ],
   "source": [
    "import matplotlib.pyplot as plt\n",
    "\n",
    "num_epoch = 50\n",
    "train_losses = []\n",
    "test_losses = []\n",
    "\n",
    "for i in range(num_epoch):\n",
    "    print(f\"==== Epoch {i} ====\")\n",
    "    train_loss = train_model(model, train_dataloader)\n",
    "    test_loss = test_model(model, test_dataloader)\n",
    "    train_losses.append(train_loss)\n",
    "    test_losses.append(test_loss)\n",
    "\n",
    "\n",
    "\n",
    "plt.plot(range(1, num_epoch + 1), train_losses, label='Training Loss')\n",
    "plt.plot(range(1, num_epoch + 1), test_losses, label='Test Loss')\n",
    "\n",
    "plt.xlabel('Epoch')\n",
    "plt.ylabel('Loss')\n",
    "plt.title('Training and Test Loss over Epochs')\n",
    "plt.legend()\n",
    "\n",
    "plt.show"
   ]
  },
  {
   "cell_type": "code",
   "execution_count": null,
   "id": "6f2a33a8",
   "metadata": {},
   "outputs": [],
   "source": []
  },
  {
   "cell_type": "code",
   "execution_count": null,
   "id": "ebbd4cc4",
   "metadata": {},
   "outputs": [],
   "source": []
  },
  {
   "cell_type": "code",
   "execution_count": null,
   "id": "503ba52c",
   "metadata": {},
   "outputs": [],
   "source": []
  }
 ],
 "metadata": {
  "kernelspec": {
   "display_name": "Python 3",
   "language": "python",
   "name": "python3"
  },
  "language_info": {
   "codemirror_mode": {
    "name": "ipython",
    "version": 3
   },
   "file_extension": ".py",
   "mimetype": "text/x-python",
   "name": "python",
   "nbconvert_exporter": "python",
   "pygments_lexer": "ipython3",
   "version": "3.8.8"
  }
 },
 "nbformat": 4,
 "nbformat_minor": 5
}
