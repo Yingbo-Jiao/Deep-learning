{
 "cells": [
  {
   "cell_type": "markdown",
   "id": "a91bbe3e",
   "metadata": {},
   "source": [
    "### Data processing\n"
   ]
  },
  {
   "cell_type": "code",
   "execution_count": 1,
   "id": "965c54fe",
   "metadata": {},
   "outputs": [],
   "source": [
    "import pandas as pd\n",
    "df = pd.read_csv('amazon.csv')\n",
    "df = df[:300]\n"
   ]
  },
  {
   "cell_type": "code",
   "execution_count": 2,
   "id": "d900057e",
   "metadata": {},
   "outputs": [
    {
     "name": "stdout",
     "output_type": "stream",
     "text": [
      "1      [lots, of, ads<br, />slow, processing, speed<b...\n",
      "2      [excellent, unit., , the, versatility, of, thi...\n",
      "3      [i, bought, this, on, amazon, prime, so, i, en...\n",
      "6      [this, kindle, works, well, but, the, battery,...\n",
      "7      [i, really, enjoy, my, new, kindle,, it, is, e...\n",
      "                             ...                        \n",
      "292    [replaced, my, first, gen, kindle., it, can, a...\n",
      "293    [i, had, expected, this, to, have, 4g,, but, i...\n",
      "294    [it, was, everything, i, wanted, and, more., a...\n",
      "295    [i, like, having, a, kindle, to, read, and, ge...\n",
      "296    [i, am, impressed,, this, our, fourth, kindle,...\n",
      "Name: Words, Length: 197, dtype: object\n"
     ]
    }
   ],
   "source": [
    "df['Words'] = df['review_body'].apply(lambda x: x.split(\" \"))\n",
    "df['Words'] = df['Words'].apply(lambda x: [word.lower() for word in x])\n",
    "df['Count'] = df['review_body'].apply(lambda x: len(x.split(\" \")))\n",
    "rows_to_delete = df[df['Count'] < 10].index\n",
    "df.drop(rows_to_delete, inplace=True)\n",
    "\n",
    "max_seq_len = df.Count.max()\n",
    "max_seq_len \n"
   ]
  },
  {
   "cell_type": "code",
   "execution_count": 3,
   "id": "2ec8176a",
   "metadata": {},
   "outputs": [],
   "source": [
    "class dictionary():\n",
    "    def __init__(self):\n",
    "        self.word2idx = {\"<PAD>\" : 0}\n",
    "        self.idx2word = [\"<PAD>\"]\n",
    "    \n",
    "    def add(self,word):\n",
    "        word_lower = word.lower()\n",
    "        if word not in self.word2idx:\n",
    "            self.word2idx[word] = len(self.word2idx)\n",
    "            self.idx2word.append(word)\n",
    "            \n",
    "    def __len__(self):\n",
    "        return len(self.word2idx)"
   ]
  },
  {
   "cell_type": "code",
   "execution_count": 4,
   "id": "6effcb12",
   "metadata": {},
   "outputs": [],
   "source": [
    "dic = dictionary()\n",
    "\n",
    "for idx,row in df.iterrows():\n",
    "    for word in row.Words:\n",
    "        dic.add(word)"
   ]
  },
  {
   "cell_type": "code",
   "execution_count": null,
   "id": "090125a4",
   "metadata": {},
   "outputs": [],
   "source": []
  },
  {
   "cell_type": "markdown",
   "id": "7df5caf0",
   "metadata": {},
   "source": [
    "### dataset building"
   ]
  },
  {
   "cell_type": "code",
   "execution_count": 5,
   "id": "0f788d53",
   "metadata": {},
   "outputs": [],
   "source": [
    "from  torch.utils.data import  Dataset, DataLoader\n",
    "import  torch\n",
    "\n",
    "class sentimentdataset(Dataset):\n",
    "    def __init__(self,df,max_seq_len):\n",
    "            self.data = df.Words.tolist()\n",
    "            self.label = df.star_rating.tolist()\n",
    "            self.max_seq_len= max_seq_len\n",
    "    def __getitem__(self,idx):\n",
    "        tokens = []\n",
    "        for word in self.data[idx]:\n",
    "            tokens.append(dic.word2idx[word])\n",
    "            \n",
    "        for  i  in  range(self.max_seq_len-len(tokens)):\n",
    "            tokens.append(dic.word2idx['<PAD>'])\n",
    "            \n",
    "        return torch.tensor(tokens).long(),torch.tensor(self.label[idx]).long()\n",
    "    def __len__(self):\n",
    "        return len(self.data)"
   ]
  },
  {
   "cell_type": "code",
   "execution_count": 6,
   "id": "43f4a57b",
   "metadata": {},
   "outputs": [],
   "source": [
    "batch_sizes = 16\n",
    "\n",
    "train_dataset = sentimentdataset(df,max_seq_len)\n",
    "train_dataloader = DataLoader(train_dataset,batch_sizes,shuffle = True,drop_last = True)"
   ]
  },
  {
   "cell_type": "code",
   "execution_count": 8,
   "id": "fb73376f",
   "metadata": {},
   "outputs": [],
   "source": [
    "test_df = df.sample(frac=0.2)\n",
    "test_dataset = sentimentdataset(test_df,max_seq_len)\n",
    "test_dataloader = DataLoader(test_dataset,batch_sizes,shuffle = True,drop_last = True)"
   ]
  },
  {
   "cell_type": "markdown",
   "id": "90787c65",
   "metadata": {},
   "source": [
    "### LSTM model  building\n"
   ]
  },
  {
   "cell_type": "code",
   "execution_count": 9,
   "id": "638aa9fe",
   "metadata": {},
   "outputs": [],
   "source": [
    "import torch\n",
    "import torch.nn as nn\n",
    "import torch.nn.functional as F\n",
    "\n",
    "class LanguageModel(nn.Module):\n",
    "    def __init__(self, max_seq_len, num_layers, hidden_dim, embedding_dim, vocab_sizes, dropout_rate=0.5):\n",
    "        super().__init__()\n",
    "        self.num_layers = num_layers\n",
    "        self.hidden_dim = hidden_dim\n",
    "        self.embedding_dim = embedding_dim\n",
    "        \n",
    "        self.embedding = nn.Embedding(vocab_sizes, embedding_dim)\n",
    "        self.lstm = nn.LSTM(embedding_dim, hidden_dim,\n",
    "                            num_layers=num_layers,\n",
    "                            dropout=dropout_rate,\n",
    "                            batch_first=True)\n",
    "        self.dropout = nn.Dropout(dropout_rate)\n",
    "        self.flatten = nn.Flatten()\n",
    "        self.fc = nn.Linear(hidden_dim * max_seq_len, 5)  \n",
    "    \n",
    "    def forward(self, x, hidden, cell):\n",
    "        \n",
    "        embedding = self.embedding(x)\n",
    "        \n",
    "        output, (h, c) = self.lstm(embedding, (hidden, cell))\n",
    "        y = self.dropout(output)\n",
    "        y = self.flatten(y)\n",
    "        y = torch.softmax(y, dim=1)  \n",
    "        return y\n",
    "    \n",
    "    def init_hidden(self, batch_sizes):\n",
    "        hidden = torch.zeros(self.num_layers, batch_sizes, self.hidden_dim)\n",
    "        cell = torch.zeros(self.num_layers, batch_sizes, self.hidden_dim)\n",
    "        return hidden, cell\n"
   ]
  },
  {
   "cell_type": "markdown",
   "id": "8d6a6c2b",
   "metadata": {},
   "source": [
    "### parameter determination"
   ]
  },
  {
   "cell_type": "code",
   "execution_count": 10,
   "id": "b71692a4",
   "metadata": {},
   "outputs": [],
   "source": [
    "import torch.optim as optim\n",
    "\n",
    "num_layers = 2\n",
    "hidden_dim = 512\n",
    "embedding_dim = 256\n",
    "vocab_sizes = len(dic)\n",
    "\n",
    "max_seq_len = 2362\n",
    "batch_sizes = 16\n",
    "\n",
    "device = torch.device(\"cuda\" if torch.cuda.is_available() else \"cpu\")\n",
    "model = LanguageModel(max_seq_len,num_layers,hidden_dim,embedding_dim,vocab_sizes).to(device)\n",
    "optimizer = optim.Adam(model.parameters(),lr=1e-3)\n",
    "\n"
   ]
  },
  {
   "cell_type": "code",
   "execution_count": null,
   "id": "7ace98ad",
   "metadata": {},
   "outputs": [],
   "source": []
  },
  {
   "cell_type": "code",
   "execution_count": null,
   "id": "4b6d84c0",
   "metadata": {},
   "outputs": [],
   "source": []
  },
  {
   "cell_type": "markdown",
   "id": "19f0dd08",
   "metadata": {},
   "source": [
    "### model training"
   ]
  },
  {
   "cell_type": "code",
   "execution_count": 11,
   "id": "6fe85dc0",
   "metadata": {},
   "outputs": [],
   "source": [
    "def train_model(dataloader):\n",
    "    model.train()\n",
    "    total_loss = 0\n",
    "    for idx, (x, y) in enumerate(dataloader):\n",
    "        x = x.to(device)\n",
    "        y = y.to(device)\n",
    "        hidden, cell = model.init_hidden(batch_sizes)\n",
    "        hidden = hidden.to(device)\n",
    "        cell = cell.to(device)\n",
    "        optimizer.zero_grad()\n",
    "        \n",
    "        y_pred = model(x, hidden, cell)\n",
    "        \n",
    "        loss = F.cross_entropy(y_pred, y)  \n",
    "        loss.backward()\n",
    "        optimizer.step()\n",
    "        \n",
    "        total_loss += loss.item()\n",
    "\n",
    "    TrainLoss = total_loss / len(train_dataloader)\n",
    "    print(\"Average loss:\", TrainLoss)\n",
    "    \n",
    "    model.eval()\n",
    "    return TrainLoss"
   ]
  },
  {
   "cell_type": "markdown",
   "id": "3dfaad03",
   "metadata": {},
   "source": [
    "### model testing"
   ]
  },
  {
   "cell_type": "code",
   "execution_count": 12,
   "id": "2ae02394",
   "metadata": {},
   "outputs": [],
   "source": [
    "\n",
    "def test_model(dataloader):\n",
    "    model.eval()\n",
    "\n",
    "    total_loss = 0.\n",
    "    for idx, (x, y) in enumerate(dataloader):\n",
    "        x = x.to(device)\n",
    "        y = y.to(device)\n",
    "        hidden, cell = model.init_hidden(batch_sizes)\n",
    "        hidden = hidden.to(device)\n",
    "        cell = cell.to(device)\n",
    "        y_pred = model(x, hidden, cell)\n",
    "        loss = F.cross_entropy(y_pred, y)\n",
    "        total_loss += loss.item()\n",
    "        \n",
    "    TestLoss = total_loss/len(test_dataloader)\n",
    "    print(f\"Test loss: {TestLoss}\")\n",
    "    return TestLoss"
   ]
  },
  {
   "cell_type": "markdown",
   "id": "a73208f0",
   "metadata": {},
   "source": [
    "### model evaluation"
   ]
  },
  {
   "cell_type": "code",
   "execution_count": null,
   "id": "e481d7d9",
   "metadata": {},
   "outputs": [
    {
     "name": "stderr",
     "output_type": "stream",
     "text": [
      "Duplicate key in file WindowsPath('D:/anaconda/lib/site-packages/matplotlib/mpl-data/matplotlibrc'), line 758 ('font.family :sans-serif')\n",
      "Duplicate key in file WindowsPath('D:/anaconda/lib/site-packages/matplotlib/mpl-data/matplotlibrc'), line 759 ('font.sans-serif :SimHei')\n",
      "Duplicate key in file WindowsPath('D:/anaconda/lib/site-packages/matplotlib/mpl-data/matplotlibrc'), line 760 ('axes.unicode_minus :False')\n"
     ]
    },
    {
     "name": "stdout",
     "output_type": "stream",
     "text": [
      "==== Epoch 1 ====\n",
      "Average loss: 12.553682724634806\n",
      "Test loss: 12.553681373596191\n",
      "==== Epoch 2 ====\n",
      "Average loss: 12.553683121999105\n",
      "Test loss: 12.553681373596191\n",
      "==== Epoch 3 ====\n",
      "Average loss: 12.553683916727701\n",
      "Test loss: 12.55368185043335\n",
      "==== Epoch 4 ====\n",
      "Average loss: 12.553683519363403\n",
      "Test loss: 12.553682804107666\n",
      "==== Epoch 5 ====\n",
      "Average loss: 12.55367922782898\n",
      "Test loss: 12.553680896759033\n"
     ]
    }
   ],
   "source": [
    "import matplotlib.pyplot as plt\n",
    "\n",
    "num_epoch = 5\n",
    "train_losses = []\n",
    "test_losses = []\n",
    "\n",
    "for i in range(num_epoch):\n",
    "    print(f\"==== Epoch {i+1} ====\")\n",
    "    train_loss = train_model(train_dataloader)\n",
    "    test_loss = test_model(test_dataloader)\n",
    "    train_losses.append(train_loss)\n",
    "    test_losses.append(test_loss)\n",
    "\n",
    "\n",
    "\n",
    "plt.plot(range(1, num_epoch + 1), train_losses, label='Training Loss')\n",
    "plt.plot(range(1, num_epoch + 1), test_losses, label='Test Loss')\n",
    "\n",
    "plt.xlabel('Epoch')\n",
    "plt.ylabel('Loss')\n",
    "plt.title('Training and Test Loss over Epochs')\n",
    "plt.legend()\n",
    "\n",
    "plt.show"
   ]
  },
  {
   "cell_type": "code",
   "execution_count": null,
   "id": "09000465",
   "metadata": {},
   "outputs": [],
   "source": []
  },
  {
   "cell_type": "code",
   "execution_count": null,
   "id": "6b84e8ea",
   "metadata": {},
   "outputs": [],
   "source": []
  },
  {
   "cell_type": "code",
   "execution_count": null,
   "id": "a5c2371a",
   "metadata": {},
   "outputs": [],
   "source": []
  }
 ],
 "metadata": {
  "kernelspec": {
   "display_name": "Python 3",
   "language": "python",
   "name": "python3"
  },
  "language_info": {
   "codemirror_mode": {
    "name": "ipython",
    "version": 3
   },
   "file_extension": ".py",
   "mimetype": "text/x-python",
   "name": "python",
   "nbconvert_exporter": "python",
   "pygments_lexer": "ipython3",
   "version": "3.8.8"
  }
 },
 "nbformat": 4,
 "nbformat_minor": 5
}
