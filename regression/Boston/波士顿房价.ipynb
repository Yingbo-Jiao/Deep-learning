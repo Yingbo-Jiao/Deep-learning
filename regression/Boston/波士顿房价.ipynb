{
 "cells": [
  {
   "cell_type": "markdown",
   "id": "3bbb6cbf",
   "metadata": {},
   "source": [
    "### Data processing"
   ]
  },
  {
   "cell_type": "code",
   "execution_count": 1,
   "id": "bbe0cea9",
   "metadata": {
    "scrolled": true
   },
   "outputs": [],
   "source": [
    "from sklearn.preprocessing import LabelEncoder\n",
    "import pandas as pd\n",
    "\n",
    "def encode_categorical(df):\n",
    "    label_encoder = LabelEncoder()\n",
    "    for column in df.columns:\n",
    "        if df[column].dtype == 'object':\n",
    "            df[column] = label_encoder.fit_transform(df[column])\n",
    "        elif df[column].dtype == 'float64' or df[column].dtype == 'int64':\n",
    "            df[column] = df[column].fillna(df[column].mean())\n",
    "    return df\n",
    "\n",
    "df1 = pd.read_csv('train.csv')\n",
    "df1 = encode_categorical(df1)\n"
   ]
  },
  {
   "cell_type": "markdown",
   "id": "581c6a17",
   "metadata": {},
   "source": [
    "### Building dataset"
   ]
  },
  {
   "cell_type": "code",
   "execution_count": 2,
   "id": "f262afc0",
   "metadata": {},
   "outputs": [
    {
     "data": {
      "text/plain": [
       "1168"
      ]
     },
     "execution_count": 2,
     "metadata": {},
     "output_type": "execute_result"
    }
   ],
   "source": [
    "from sklearn.model_selection import train_test_split\n",
    "import torch.utils.data as Data\n",
    "import torch\n",
    "\n",
    "\n",
    "batch_sizes = 32\n",
    "\n",
    "x = df1.iloc[:,1:-1]\n",
    "y= df1.iloc[:,-1:]\n",
    "x_train, x_test, y_train, y_test = train_test_split(x, y, test_size=0.2, random_state=2004)\n",
    "\n",
    "x_train_tensor = torch.FloatTensor(x_train.values)\n",
    "y_train_tensor = torch.FloatTensor(y_train.values)\n",
    "x_test_tensor = torch.FloatTensor(x_test.values)\n",
    "y_test_tensor = torch.FloatTensor(y_test.values)\n",
    "\n",
    "train_dataset = Data.TensorDataset(x_train_tensor, y_train_tensor)\n",
    "test_dataset = Data.TensorDataset(x_test_tensor, y_test_tensor)\n",
    "\n",
    "train_dataloader = Data.DataLoader(train_dataset,batch_sizes,shuffle=True)\n",
    "test_dataloader = Data.DataLoader(test_dataset,batch_sizes,shuffle=True)\n",
    "len(train_dataset)"
   ]
  },
  {
   "cell_type": "markdown",
   "id": "e74eed53",
   "metadata": {},
   "source": [
    "### Model building"
   ]
  },
  {
   "cell_type": "code",
   "execution_count": 8,
   "id": "a45ed41c",
   "metadata": {},
   "outputs": [],
   "source": [
    "import torch.nn as nn\n",
    "\n",
    "class LinearNet(nn.Module):\n",
    "    def __init__(self, in_features, out_features):\n",
    "        super().__init__()\n",
    "        self.linear_1 = nn.Linear(in_features, 64)  # nn.Module\n",
    "        self.linear_2 = nn.Linear(64, 32)\n",
    "        self.linear_3 = nn.Linear(32, 10)\n",
    "        self.linear_4 = nn.Linear(10, out_features)\n",
    "        self.sigmoid = nn.Sigmoid()  \n",
    "        \n",
    "    def forward(self, x):\n",
    "        x = self.linear_1(x)\n",
    "  \n",
    "        x = self.linear_2(x)\n",
    "\n",
    "        x = self.linear_3(x)\n",
    "        \n",
    "        x = self.linear_4(x)\n",
    "        return x\n"
   ]
  },
  {
   "cell_type": "markdown",
   "id": "f9c0a17c",
   "metadata": {},
   "source": [
    "### Parameter determination\n"
   ]
  },
  {
   "cell_type": "code",
   "execution_count": 17,
   "id": "e11e4312",
   "metadata": {},
   "outputs": [],
   "source": [
    "import torch.optim as optim\n",
    "\n",
    "device = torch.device(\"cuda\" if torch.cuda.is_available() else \"cpu\")\n",
    "model = LinearNet(79,1).to(device)\n",
    "loss = nn.MSELoss()\n",
    "optimizer = optim.Adam(model.parameters(),lr=1e-4)\n"
   ]
  },
  {
   "cell_type": "markdown",
   "id": "0e19643f",
   "metadata": {},
   "source": [
    "### Model training"
   ]
  },
  {
   "cell_type": "code",
   "execution_count": 18,
   "id": "bd714e3f",
   "metadata": {},
   "outputs": [],
   "source": [
    "\n",
    "def train_model(model,dataloader):\n",
    "    model.train()\n",
    "    \n",
    "    total_loss = 0\n",
    "    for idx,(x,y) in enumerate(dataloader):\n",
    "        x = x.to(device)\n",
    "        y = y.to(device)\n",
    "        y_pred = model(x)\n",
    "        cur_loss = loss(y_pred,y)\n",
    "        optimizer.zero_grad()\n",
    "        cur_loss.backward()\n",
    "        optimizer.step()\n",
    "        \n",
    "        total_loss += cur_loss.item()\n",
    "    print(f\"train loss:{total_loss/len(train_dataset)}\")\n",
    "    return total_loss"
   ]
  },
  {
   "cell_type": "markdown",
   "id": "fdcd3b99",
   "metadata": {
    "scrolled": false
   },
   "source": [
    "# Model testing"
   ]
  },
  {
   "cell_type": "code",
   "execution_count": 19,
   "id": "4aff9460",
   "metadata": {},
   "outputs": [],
   "source": [
    "\n",
    "def test_model(model, dataloader):\n",
    "    model.eval()\n",
    "\n",
    "    total_loss = 0.\n",
    "    for idx, (x, y) in enumerate(dataloader):\n",
    "        x = x.to(device)\n",
    "        y = y.to(device)\n",
    "        y_pred = model(x)\n",
    "        cur_loss = loss(y_pred, y)\n",
    "        total_loss += cur_loss.item()\n",
    "        \n",
    "    print(f\"Test loss: {total_loss/len(test_dataset)}\")\n",
    "    return total_loss"
   ]
  },
  {
   "cell_type": "code",
   "execution_count": null,
   "id": "4d04abf8",
   "metadata": {},
   "outputs": [],
   "source": []
  },
  {
   "cell_type": "code",
   "execution_count": 20,
   "id": "1a7fc4d4",
   "metadata": {},
   "outputs": [
    {
     "name": "stdout",
     "output_type": "stream",
     "text": [
      "==== Epoch 0 ====\n",
      "train loss:1206234236.4931507\n",
      "Test loss: 1376237406.6849315\n",
      "==== Epoch 1 ====\n",
      "train loss:1194936426.958904\n",
      "Test loss: 1497761385.2054794\n",
      "==== Epoch 2 ====\n",
      "train loss:1184960064.8767123\n",
      "Test loss: 1378284130.1917808\n",
      "==== Epoch 3 ====\n",
      "train loss:1169265781.4794521\n",
      "Test loss: 1366493625.8630137\n",
      "==== Epoch 4 ====\n",
      "train loss:1143263877.260274\n",
      "Test loss: 1376138043.6164384\n",
      "==== Epoch 5 ====\n",
      "train loss:1116846860.2739725\n",
      "Test loss: 1284322942.2465754\n",
      "==== Epoch 6 ====\n",
      "train loss:1066002751.1232877\n",
      "Test loss: 1201218945.7534246\n",
      "==== Epoch 7 ====\n",
      "train loss:991481945.4246576\n",
      "Test loss: 1163226490.739726\n",
      "==== Epoch 8 ====\n",
      "train loss:906818784.4383562\n",
      "Test loss: 1065864206.0273973\n",
      "==== Epoch 9 ====\n",
      "train loss:800559502.0273973\n",
      "Test loss: 918333776.6575342\n",
      "==== Epoch 10 ====\n",
      "train loss:686344967.8904109\n",
      "Test loss: 789856701.369863\n",
      "==== Epoch 11 ====\n",
      "train loss:568012336.2191781\n",
      "Test loss: 600562584.5479453\n",
      "==== Epoch 12 ====\n",
      "train loss:457578076.4931507\n",
      "Test loss: 587678011.6164384\n",
      "==== Epoch 13 ====\n",
      "train loss:375227946.5205479\n",
      "Test loss: 444414218.5205479\n",
      "==== Epoch 14 ====\n",
      "train loss:320025535.34246576\n",
      "Test loss: 347046047.56164384\n",
      "==== Epoch 15 ====\n",
      "train loss:283074750.9041096\n",
      "Test loss: 296238937.20547944\n",
      "==== Epoch 16 ====\n",
      "train loss:256891295.78082192\n",
      "Test loss: 282239450.739726\n",
      "==== Epoch 17 ====\n",
      "train loss:248582714.30136988\n",
      "Test loss: 269633130.5205479\n",
      "==== Epoch 18 ====\n",
      "train loss:237289462.46575344\n",
      "Test loss: 269519344.2191781\n",
      "==== Epoch 19 ====\n",
      "train loss:233473191.4520548\n",
      "Test loss: 422015574.79452056\n",
      "==== Epoch 20 ====\n",
      "train loss:226233995.06849316\n",
      "Test loss: 279202609.0958904\n",
      "==== Epoch 21 ====\n",
      "train loss:222198116.38356164\n",
      "Test loss: 266009047.67123288\n",
      "==== Epoch 22 ====\n",
      "train loss:218612996.60273972\n",
      "Test loss: 272575112.7671233\n",
      "==== Epoch 23 ====\n",
      "train loss:214669849.0958904\n",
      "Test loss: 251325739.83561644\n",
      "==== Epoch 24 ====\n",
      "train loss:211313959.01369864\n",
      "Test loss: 240105717.47945204\n",
      "==== Epoch 25 ====\n",
      "train loss:209027849.31506848\n",
      "Test loss: 231063438.24657536\n",
      "==== Epoch 26 ====\n",
      "train loss:204408119.4520548\n",
      "Test loss: 253653936.21917808\n",
      "==== Epoch 27 ====\n",
      "train loss:201485280.87671232\n",
      "Test loss: 226615508.8219178\n",
      "==== Epoch 28 ====\n",
      "train loss:201564283.7260274\n",
      "Test loss: 225758383.78082192\n",
      "==== Epoch 29 ====\n",
      "train loss:195035430.3561644\n",
      "Test loss: 228066723.06849316\n",
      "==== Epoch 30 ====\n",
      "train loss:193732649.20547944\n",
      "Test loss: 228428421.26027396\n",
      "==== Epoch 31 ====\n",
      "train loss:194922075.39726028\n",
      "Test loss: 230431948.2739726\n",
      "==== Epoch 32 ====\n",
      "train loss:188376852.49315068\n",
      "Test loss: 219115188.16438356\n",
      "==== Epoch 33 ====\n",
      "train loss:185849982.68493152\n",
      "Test loss: 213188600.76712328\n",
      "==== Epoch 34 ====\n",
      "train loss:183716090.73972604\n",
      "Test loss: 211833979.61643836\n",
      "==== Epoch 35 ====\n",
      "train loss:181604230.57534248\n",
      "Test loss: 231649984.0\n",
      "==== Epoch 36 ====\n",
      "train loss:177645874.30136988\n",
      "Test loss: 208116779.83561644\n",
      "==== Epoch 37 ====\n",
      "train loss:176820211.28767124\n",
      "Test loss: 215024005.26027396\n",
      "==== Epoch 38 ====\n",
      "train loss:174028475.83561644\n",
      "Test loss: 201659255.23287672\n",
      "==== Epoch 39 ====\n",
      "train loss:172973406.79452056\n",
      "Test loss: 209103490.630137\n",
      "==== Epoch 40 ====\n",
      "train loss:168726459.94520548\n",
      "Test loss: 199047498.52054796\n",
      "==== Epoch 41 ====\n",
      "train loss:168136897.20547944\n",
      "Test loss: 206188633.42465752\n",
      "==== Epoch 42 ====\n",
      "train loss:164775393.31506848\n",
      "Test loss: 195742738.41095892\n",
      "==== Epoch 43 ====\n",
      "train loss:175627824.43835616\n",
      "Test loss: 231200910.02739727\n",
      "==== Epoch 44 ====\n",
      "train loss:161639085.9178082\n",
      "Test loss: 193371508.16438356\n",
      "==== Epoch 45 ====\n",
      "train loss:160301547.50684932\n",
      "Test loss: 193128835.94520548\n",
      "==== Epoch 46 ====\n",
      "train loss:157323249.42465752\n",
      "Test loss: 315386624.8767123\n",
      "==== Epoch 47 ====\n",
      "train loss:155335291.94520548\n",
      "Test loss: 215951975.4520548\n",
      "==== Epoch 48 ====\n",
      "train loss:155511526.02739727\n",
      "Test loss: 194036676.38356164\n",
      "==== Epoch 49 ====\n",
      "train loss:152630212.05479452\n",
      "Test loss: 198280168.32876712\n"
     ]
    },
    {
     "data": {
      "text/plain": [
       "<function matplotlib.pyplot.show(close=None, block=None)>"
      ]
     },
     "execution_count": 20,
     "metadata": {},
     "output_type": "execute_result"
    },
    {
     "data": {
      "image/png": "[encoded data removed]",
      "text/plain": [
       "<Figure size 432x288 with 1 Axes>"
      ]
     },
     "metadata": {
      "needs_background": "light"
     },
     "output_type": "display_data"
    }
   ],
   "source": [
    "import matplotlib.pyplot as plt\n",
    "\n",
    "num_epoch = 50\n",
    "train_losses = []\n",
    "test_losses = []\n",
    "\n",
    "for i in range(num_epoch):\n",
    "    print(f\"==== Epoch {i} ====\")\n",
    "    train_loss = train_model(model, train_dataloader)\n",
    "    test_loss = test_model(model, test_dataloader)\n",
    "    train_losses.append(train_loss)\n",
    "    test_losses.append(test_loss)\n",
    "\n",
    "\n",
    "\n",
    "plt.plot(range(1, num_epoch + 1), train_losses, label='Training Loss')\n",
    "plt.plot(range(1, num_epoch + 1), test_losses, label='Test Loss')\n",
    "\n",
    "plt.xlabel('Epoch')\n",
    "plt.ylabel('Loss')\n",
    "plt.title('Training and Test Loss over Epochs')\n",
    "plt.legend()\n",
    "\n",
    "plt.show"
   ]
  },
  {
   "cell_type": "code",
   "execution_count": null,
   "id": "6f2a33a8",
   "metadata": {},
   "outputs": [],
   "source": []
  },
  {
   "cell_type": "code",
   "execution_count": null,
   "id": "ebbd4cc4",
   "metadata": {},
   "outputs": [],
   "source": []
  },
  {
   "cell_type": "code",
   "execution_count": null,
   "id": "503ba52c",
   "metadata": {},
   "outputs": [],
   "source": []
  }
 ],
 "metadata": {
  "kernelspec": {
   "display_name": "Python 3",
   "language": "python",
   "name": "python3"
  },
  "language_info": {
   "codemirror_mode": {
    "name": "ipython",
    "version": 3
   },
   "file_extension": ".py",
   "mimetype": "text/x-python",
   "name": "python",
   "nbconvert_exporter": "python",
   "pygments_lexer": "ipython3",
   "version": "3.8.8"
  }
 },
 "nbformat": 4,
 "nbformat_minor": 5
}
