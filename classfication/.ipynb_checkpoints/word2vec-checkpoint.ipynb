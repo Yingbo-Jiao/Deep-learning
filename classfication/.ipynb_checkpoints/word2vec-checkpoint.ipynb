{
 "cells": [
  {
   "cell_type": "code",
   "execution_count": 1,
   "id": "d0d2c4e2",
   "metadata": {},
   "outputs": [],
   "source": [
    "with open(\"fr-en-small.txt\", \"r\", encoding=\"utf-8\") as f:\n",
    "    corpus = f.read().split(\".\")  "
   ]
  },
  {
   "cell_type": "code",
   "execution_count": 2,
   "id": "2edc3e05",
   "metadata": {},
   "outputs": [],
   "source": [
    "class Vocab:\n",
    "    def __init__(self):\n",
    "        self.word2idx = {}\n",
    "        self.idx2word = []\n",
    "        \n",
    "    def add(self, word):\n",
    "        if word not in self.word2idx:\n",
    "            self.word2idx[word] = len(self.word2idx)\n",
    "            self.idx2word.append(word)\n",
    "            \n",
    "    def __len__(self):\n",
    "        return len(self.word2idx)"
   ]
  },
  {
   "cell_type": "code",
   "execution_count": 3,
   "id": "0d73be5c",
   "metadata": {},
   "outputs": [
    {
     "name": "stdout",
     "output_type": "stream",
     "text": [
      "Vocab size: 73\n"
     ]
    }
   ],
   "source": [
    "vocab = Vocab()\n",
    "\n",
    "for line in corpus:\n",
    "    for word in line.split():\n",
    "        vocab.add(word)\n",
    "        \n",
    "print(f\"Vocab size: {len(vocab)}\")"
   ]
  },
  {
   "cell_type": "code",
   "execution_count": 4,
   "id": "296be34e",
   "metadata": {},
   "outputs": [],
   "source": [
    "import torch\n",
    "from torch.utils.data import Dataset, DataLoader\n",
    "\n",
    "class SkipGramDataSet(Dataset):\n",
    "    def __init__(self, corpus, word2idx, context_size=2):\n",
    "        self.data = []\n",
    "        \n",
    "        for line in corpus:\n",
    "            words = line.split()  \n",
    "            for idx, word in enumerate(words):\n",
    "                center = word2idx[word]  \n",
    "                \n",
    "                context_words = [word2idx[words[j]] for j in range(max(0, idx-context_size), min(len(words), idx+context_size+1)) if j != idx]\n",
    "                \n",
    "                for context_word in context_words:\n",
    "                    self.data.append((center, context_word))  # (201, 643), (201, 224)\n",
    "                \n",
    "    def __len__(self):\n",
    "        return len(self.data)\n",
    "    \n",
    "    def __getitem__(self, idx):\n",
    "        return self.data[idx]"
   ]
  },
  {
   "cell_type": "code",
   "execution_count": 5,
   "id": "484d3fee",
   "metadata": {},
   "outputs": [
    {
     "name": "stdout",
     "output_type": "stream",
     "text": [
      "Dataset size: 368\n",
      "DataLoader size: 92\n"
     ]
    }
   ],
   "source": [
    "batch_size = 4\n",
    "\n",
    "dataset = SkipGramDataSet(corpus, vocab.word2idx, context_size=2)\n",
    "dataloader = DataLoader(dataset, batch_size=batch_size, shuffle=True, drop_last=False)\n",
    "\n",
    "print(f\"Dataset size: {len(dataset)}\")\n",
    "print(f\"DataLoader size: {len(dataloader)}\")"
   ]
  },
  {
   "cell_type": "code",
   "execution_count": 6,
   "id": "093457ed",
   "metadata": {},
   "outputs": [],
   "source": [
    "import torch.nn as nn\n",
    "\n",
    "class SkipGramModel(nn.Module):\n",
    "    \"\"\" 跳词模型 \"\"\"\n",
    "    def __init__(self, vocab_size: int, embedding_size: int):\n",
    "        super().__init__()\n",
    "        \n",
    "        self.embedding = nn.Embedding(vocab_size, embedding_size)\n",
    "        self.fc = nn.Linear(embedding_size, vocab_size)\n",
    "        self.log_softmax = nn.Softmax(dim=-1)\n",
    "        \n",
    "    def forward(self, input_word: torch.tensor):\n",
    "        word_embedding = self.embedding(input_word)\n",
    "        output = self.fc(word_embedding)\n",
    "        return self.log_softmax(output)"
   ]
  },
  {
   "cell_type": "code",
   "execution_count": 7,
   "id": "27d08b36",
   "metadata": {},
   "outputs": [],
   "source": [
    "embedding_size = 32\n",
    "\n",
    "device = torch.device(\"cuda\" if torch.cuda.is_available() else \"cpu\")\n",
    "model = SkipGramModel(vocab_size=len(vocab), embedding_size=embedding_size).to(device)\n",
    "optim = torch.optim.Adam(model.parameters(), lr=1e-3)\n",
    "criterion = nn.CrossEntropyLoss()"
   ]
  },
  {
   "cell_type": "code",
   "execution_count": 8,
   "id": "065e473f",
   "metadata": {},
   "outputs": [],
   "source": [
    "def train_model(model, dataloader, optim, criterion):\n",
    "    total_loss = 0.\n",
    "\n",
    "    for idx, (x, y) in enumerate(dataloader):\n",
    "        x = x.to(device)\n",
    "        y = y.to(device)\n",
    "        \n",
    "        optim.zero_grad()\n",
    "        y_hat = model(x)\n",
    "        loss = criterion(y_hat, y)\n",
    "\n",
    "        loss.backward()\n",
    "        optim.step()\n",
    "        total_loss += loss.item()\n",
    "    return total_loss/idx\n",
    "    print(f\"Loss: {total_loss/idx}\")"
   ]
  },
  {
   "cell_type": "code",
   "execution_count": null,
   "id": "ec018b22",
   "metadata": {},
   "outputs": [
    {
     "name": "stderr",
     "output_type": "stream",
     "text": [
      "Duplicate key in file WindowsPath('D:/anaconda/lib/site-packages/matplotlib/mpl-data/matplotlibrc'), line 758 ('font.family :sans-serif')\n",
      "Duplicate key in file WindowsPath('D:/anaconda/lib/site-packages/matplotlib/mpl-data/matplotlibrc'), line 759 ('font.sans-serif :SimHei')\n",
      "Duplicate key in file WindowsPath('D:/anaconda/lib/site-packages/matplotlib/mpl-data/matplotlibrc'), line 760 ('axes.unicode_minus :False')\n"
     ]
    }
   ],
   "source": [
    "import matplotlib.pyplot as plt\n",
    "epoch = 50\n",
    "train_losses = []\n",
    "\n",
    "for i in range(epoch):\n",
    "    train_loss = train_model(model, dataloader, optim, criterion)\n",
    "    train_losses.append(train_loss)\n",
    "    \n",
    "plt.plot(range(1, epoch + 1), train_losses, label='Training Loss')\n",
    "\n",
    "plt.xlabel('Epoch')\n",
    "plt.ylabel('Loss')\n",
    "plt.title('Training and Test Loss over Epochs')\n",
    "plt.legend()\n",
    "\n",
    "plt.show"
   ]
  },
  {
   "cell_type": "code",
   "execution_count": null,
   "id": "b6e96741",
   "metadata": {},
   "outputs": [],
   "source": []
  },
  {
   "cell_type": "code",
   "execution_count": null,
   "id": "a214d38a",
   "metadata": {},
   "outputs": [],
   "source": []
  },
  {
   "cell_type": "code",
   "execution_count": null,
   "id": "aeacf3e5",
   "metadata": {},
   "outputs": [],
   "source": []
  }
 ],
 "metadata": {
  "kernelspec": {
   "display_name": "Python 3",
   "language": "python",
   "name": "python3"
  },
  "language_info": {
   "codemirror_mode": {
    "name": "ipython",
    "version": 3
   },
   "file_extension": ".py",
   "mimetype": "text/x-python",
   "name": "python",
   "nbconvert_exporter": "python",
   "pygments_lexer": "ipython3",
   "version": "3.8.8"
  }
 },
 "nbformat": 4,
 "nbformat_minor": 5
}
