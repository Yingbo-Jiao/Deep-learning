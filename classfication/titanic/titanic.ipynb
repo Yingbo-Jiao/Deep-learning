{
 "cells": [
  {
   "cell_type": "markdown",
   "id": "84295aa4",
   "metadata": {},
   "source": [
    "### data processing"
   ]
  },
  {
   "cell_type": "code",
   "execution_count": 33,
   "id": "8ae726a7",
   "metadata": {},
   "outputs": [],
   "source": [
    "import pandas as pd\n",
    "from sklearn.preprocessing import LabelEncoder\n",
    "\n",
    "df = pd.read_csv('titanic.csv')\n",
    "df = df.drop(columns = 'Name' )\n",
    "df = df.drop(columns = 'Cabin' )\n",
    "\n",
    "mask = df['Ticket'].str.contains('[a-zA-Z]')\n",
    "df = df[~mask]\n",
    "df = df.dropna()\n",
    "\n",
    "def encode_categorical(df):\n",
    "    label_encoder = LabelEncoder()\n",
    "    for column in df.columns:\n",
    "        if df[column].dtype == 'object':\n",
    "            df[column] = label_encoder.fit_transform(df[column])\n",
    "        elif df[column].dtype == 'float64' or df[column].dtype == 'int64':\n",
    "            df[column] = df[column].fillna(df[column].mean())\n",
    "    return df\n",
    "df = encode_categorical(df)\n",
    "\n",
    "\n"
   ]
  },
  {
   "cell_type": "markdown",
   "id": "6edaa712",
   "metadata": {},
   "source": [
    "### dataset building"
   ]
  },
  {
   "cell_type": "code",
   "execution_count": 34,
   "id": "422c0bc3",
   "metadata": {},
   "outputs": [],
   "source": [
    "from sklearn.model_selection import train_test_split\n",
    "import torch.utils.data as Data\n",
    "import torch\n",
    "\n",
    "batch_sizes = 32\n",
    "\n",
    "x = df.iloc[:,2:]\n",
    "y = df.iloc[:,1:2]\n",
    "\n",
    "x_train, x_test, y_train, y_test = train_test_split(x, y, test_size=0.2, random_state=2004)\n",
    "\n",
    "x_train_tensor = torch.FloatTensor(x_train.values)\n",
    "y_train_tensor = torch.FloatTensor(y_train.values)\n",
    "x_test_tensor = torch.FloatTensor(x_test.values)\n",
    "y_test_tensor = torch.FloatTensor(y_test.values)\n",
    "\n",
    "train_dataset = Data.TensorDataset(x_train_tensor, y_train_tensor)\n",
    "test_dataset = Data.TensorDataset(x_test_tensor, y_test_tensor)\n",
    "\n",
    "train_dataloader = Data.DataLoader(train_dataset,batch_sizes,shuffle=True)\n",
    "test_dataloader = Data.DataLoader(test_dataset,batch_sizes,shuffle=True)"
   ]
  },
  {
   "cell_type": "markdown",
   "id": "70286b5c",
   "metadata": {},
   "source": [
    "### model building"
   ]
  },
  {
   "cell_type": "code",
   "execution_count": 35,
   "id": "154e4a2c",
   "metadata": {},
   "outputs": [],
   "source": [
    "import torch.nn as nn\n",
    "\n",
    "class LinearNet(nn.Module):\n",
    "    def __init__(self, in_features, out_features):\n",
    "        super().__init__()\n",
    "        self.linear_1 = nn.Linear(in_features, 64)  \n",
    "        self.linear_2 = nn.Linear(64, 16)\n",
    "        self.linear_3 = nn.Linear(16, out_features)\n",
    "        self.sigmoid = nn.Sigmoid()\n",
    "    def forward(self, x):\n",
    "        y = self.linear_1(x)\n",
    "        y = self.linear_2(y)\n",
    "        y = self.linear_3(y)\n",
    "        y = self.sigmoid(y)\n",
    "        return y"
   ]
  },
  {
   "cell_type": "markdown",
   "id": "6180768f",
   "metadata": {},
   "source": [
    "### parameters determination"
   ]
  },
  {
   "cell_type": "code",
   "execution_count": 48,
   "id": "6c28676a",
   "metadata": {},
   "outputs": [],
   "source": [
    "import torch.optim as optim\n",
    "\n",
    "device = torch.device(\"cuda\" if torch.cuda.is_available() else \"cpu\")\n",
    "model = LinearNet(8,1).to(device)\n",
    "loss = nn.BCELoss()\n",
    "optimizer = optim.Adam(model.parameters(),lr=1e-3)"
   ]
  },
  {
   "cell_type": "markdown",
   "id": "5141ab8f",
   "metadata": {},
   "source": [
    "### model training"
   ]
  },
  {
   "cell_type": "code",
   "execution_count": 49,
   "id": "c3dcc7d0",
   "metadata": {},
   "outputs": [],
   "source": [
    "\n",
    "def train_model(model,dataloader):\n",
    "    model.train()\n",
    "    \n",
    "    total_loss = 0\n",
    "    for idx,(x,y) in enumerate(dataloader):\n",
    "        x = x.to(device)\n",
    "        y = y.to(device)\n",
    "        y_pred = model(x)\n",
    "        cur_loss = loss(y_pred,y)\n",
    "        optimizer.zero_grad()\n",
    "        cur_loss.backward()\n",
    "        optimizer.step()\n",
    "        \n",
    "        total_loss += cur_loss.item()\n",
    "    print(f\"train loss:{total_loss/len(train_dataset)}\")\n",
    "    return total_loss"
   ]
  },
  {
   "cell_type": "markdown",
   "id": "d192aa71",
   "metadata": {},
   "source": [
    "### model testing"
   ]
  },
  {
   "cell_type": "code",
   "execution_count": 50,
   "id": "a7610ca8",
   "metadata": {},
   "outputs": [],
   "source": [
    "\n",
    "def test_model(model, dataloader):\n",
    "    model.eval()\n",
    "\n",
    "    total_loss = 0.\n",
    "    for idx, (x, y) in enumerate(dataloader):\n",
    "        x = x.to(device)\n",
    "        y = y.to(device)\n",
    "        y_pred = model(x)\n",
    "        cur_loss = loss(y_pred, y)\n",
    "        total_loss += cur_loss.item()\n",
    "        \n",
    "    print(f\"Test loss: {total_loss/len(test_dataset)}\")\n",
    "    return total_loss"
   ]
  },
  {
   "cell_type": "markdown",
   "id": "44b1b0a7",
   "metadata": {},
   "source": [
    "### model evaluation"
   ]
  },
  {
   "cell_type": "code",
   "execution_count": 51,
   "id": "854e0318",
   "metadata": {},
   "outputs": [
    {
     "name": "stdout",
     "output_type": "stream",
     "text": [
      "==== Epoch 0 ====\n",
      "train loss:0.0839090212281928\n",
      "Test loss: 0.0777091051523502\n",
      "==== Epoch 1 ====\n",
      "train loss:0.0538678670504007\n",
      "Test loss: 0.06158675138766949\n",
      "==== Epoch 2 ====\n",
      "train loss:0.040028940841376065\n",
      "Test loss: 0.02873884657254586\n",
      "==== Epoch 3 ====\n",
      "train loss:0.02398383387600083\n",
      "Test loss: 0.027089142455504492\n",
      "==== Epoch 4 ====\n",
      "train loss:0.019351374313055753\n",
      "Test loss: 0.022939858528283927\n",
      "==== Epoch 5 ====\n",
      "train loss:0.01837289290255811\n",
      "Test loss: 0.022385837366947763\n",
      "==== Epoch 6 ====\n",
      "train loss:0.018233017102781548\n",
      "Test loss: 0.02325790461439353\n",
      "==== Epoch 7 ====\n",
      "train loss:0.019950029792555845\n",
      "Test loss: 0.034698850833452664\n",
      "==== Epoch 8 ====\n",
      "train loss:0.02365740939795253\n",
      "Test loss: 0.021296315754835423\n",
      "==== Epoch 9 ====\n",
      "train loss:0.019894050690064946\n",
      "Test loss: 0.0286856465614759\n",
      "==== Epoch 10 ====\n",
      "train loss:0.02041222819362778\n",
      "Test loss: 0.023640837233800154\n",
      "==== Epoch 11 ====\n",
      "train loss:0.01853229094700641\n",
      "Test loss: 0.022151783108711243\n",
      "==== Epoch 12 ====\n",
      "train loss:0.018116909480956664\n",
      "Test loss: 0.02241544883984786\n",
      "==== Epoch 13 ====\n",
      "train loss:0.01990933633712401\n",
      "Test loss: 0.025844109173004445\n",
      "==== Epoch 14 ====\n",
      "train loss:0.02030728839966188\n",
      "Test loss: 0.021967587562707756\n",
      "==== Epoch 15 ====\n",
      "train loss:0.017909969910081612\n",
      "Test loss: 0.02233277433193647\n",
      "==== Epoch 16 ====\n",
      "train loss:0.017887279355382344\n",
      "Test loss: 0.021615054458379745\n",
      "==== Epoch 17 ====\n",
      "train loss:0.01888892521341163\n",
      "Test loss: 0.026819226833490226\n",
      "==== Epoch 18 ====\n",
      "train loss:0.019375048057142512\n",
      "Test loss: 0.02123263392310876\n",
      "==== Epoch 19 ====\n",
      "train loss:0.01988809683236731\n",
      "Test loss: 0.031331246288923115\n",
      "==== Epoch 20 ====\n",
      "train loss:0.021264455117375018\n",
      "Test loss: 0.023199835075781897\n",
      "==== Epoch 21 ====\n",
      "train loss:0.01929089175649436\n",
      "Test loss: 0.021283243997738913\n",
      "==== Epoch 22 ====\n",
      "train loss:0.018218166066939573\n",
      "Test loss: 0.02466974464746622\n",
      "==== Epoch 23 ====\n",
      "train loss:0.017880542163389274\n",
      "Test loss: 0.020305340393231466\n",
      "==== Epoch 24 ====\n",
      "train loss:0.017475444222071083\n",
      "Test loss: 0.02013869870167512\n",
      "==== Epoch 25 ====\n",
      "train loss:0.017920457526861902\n",
      "Test loss: 0.020683548771418057\n",
      "==== Epoch 26 ====\n",
      "train loss:0.017487418364329512\n",
      "Test loss: 0.021758717413132008\n",
      "==== Epoch 27 ====\n",
      "train loss:0.017766212483486497\n",
      "Test loss: 0.022099367127968714\n",
      "==== Epoch 28 ====\n",
      "train loss:0.01888751136251243\n",
      "Test loss: 0.02034116994876128\n",
      "==== Epoch 29 ====\n",
      "train loss:0.01906797950526318\n",
      "Test loss: 0.021991371248777095\n",
      "==== Epoch 30 ====\n",
      "train loss:0.01701883889106383\n",
      "Test loss: 0.02215000643179967\n",
      "==== Epoch 31 ====\n",
      "train loss:0.017352545907698483\n",
      "Test loss: 0.020597042372593515\n",
      "==== Epoch 32 ====\n",
      "train loss:0.01716556771692023\n",
      "Test loss: 0.026837433473421976\n",
      "==== Epoch 33 ====\n",
      "train loss:0.018140256189438233\n",
      "Test loss: 0.027758247004105494\n",
      "==== Epoch 34 ====\n",
      "train loss:0.018906274617436422\n",
      "Test loss: 0.023201281634660866\n",
      "==== Epoch 35 ====\n",
      "train loss:0.01823706073933337\n",
      "Test loss: 0.021268222767573137\n",
      "==== Epoch 36 ====\n",
      "train loss:0.01702697808483997\n",
      "Test loss: 0.019847012769717436\n",
      "==== Epoch 37 ====\n",
      "train loss:0.016793106406568045\n",
      "Test loss: 0.025841618959720317\n",
      "==== Epoch 38 ====\n",
      "train loss:0.020032849082027574\n",
      "Test loss: 0.020628231935776196\n",
      "==== Epoch 39 ====\n",
      "train loss:0.017063220150499457\n",
      "Test loss: 0.02133572560090285\n",
      "==== Epoch 40 ====\n",
      "train loss:0.017002008909202483\n",
      "Test loss: 0.02225801062125426\n",
      "==== Epoch 41 ====\n",
      "train loss:0.017884982206735265\n",
      "Test loss: 0.023290016043644685\n",
      "==== Epoch 42 ====\n",
      "train loss:0.01773602316178471\n",
      "Test loss: 0.02151240551700959\n",
      "==== Epoch 43 ====\n",
      "train loss:0.016772973896509193\n",
      "Test loss: 0.0201396423463638\n",
      "==== Epoch 44 ====\n",
      "train loss:0.017090110031955215\n",
      "Test loss: 0.02244105562567711\n",
      "==== Epoch 45 ====\n",
      "train loss:0.017990425480417457\n",
      "Test loss: 0.01968727891261761\n",
      "==== Epoch 46 ====\n",
      "train loss:0.017316737088812404\n",
      "Test loss: 0.02215840409581478\n",
      "==== Epoch 47 ====\n",
      "train loss:0.01693283254841724\n",
      "Test loss: 0.028279366401525643\n",
      "==== Epoch 48 ====\n",
      "train loss:0.01824717643749283\n",
      "Test loss: 0.020737610184229337\n",
      "==== Epoch 49 ====\n",
      "train loss:0.018285017846578575\n",
      "Test loss: 0.020538068161560938\n"
     ]
    },
    {
     "data": {
      "text/plain": [
       "<function matplotlib.pyplot.show(close=None, block=None)>"
      ]
     },
     "execution_count": 51,
     "metadata": {},
     "output_type": "execute_result"
    },
    {
     "data": {
      "image/png": "[encoded data removed]",
      "text/plain": [
       "<Figure size 432x288 with 1 Axes>"
      ]
     },
     "metadata": {
      "needs_background": "light"
     },
     "output_type": "display_data"
    }
   ],
   "source": [
    "import matplotlib.pyplot as plt\n",
    "\n",
    "num_epoch = 50\n",
    "train_losses = []\n",
    "test_losses = []\n",
    "\n",
    "for i in range(num_epoch):\n",
    "    print(f\"==== Epoch {i} ====\")\n",
    "    train_loss = train_model(model, train_dataloader)\n",
    "    test_loss = test_model(model, test_dataloader)\n",
    "    train_losses.append(train_loss)\n",
    "    test_losses.append(test_loss)\n",
    "\n",
    "\n",
    "\n",
    "plt.plot(range(1, num_epoch + 1), train_losses, label='Training Loss')\n",
    "plt.plot(range(1, num_epoch + 1), test_losses, label='Test Loss')\n",
    "\n",
    "plt.xlabel('Epoch')\n",
    "plt.ylabel('Loss')\n",
    "plt.title('Training and Test Loss over Epochs')\n",
    "plt.legend()\n",
    "\n",
    "plt.show"
   ]
  },
  {
   "cell_type": "code",
   "execution_count": null,
   "id": "06d1af79",
   "metadata": {},
   "outputs": [],
   "source": []
  }
 ],
 "metadata": {
  "kernelspec": {
   "display_name": "Python 3",
   "language": "python",
   "name": "python3"
  },
  "language_info": {
   "codemirror_mode": {
    "name": "ipython",
    "version": 3
   },
   "file_extension": ".py",
   "mimetype": "text/x-python",
   "name": "python",
   "nbconvert_exporter": "python",
   "pygments_lexer": "ipython3",
   "version": "3.8.8"
  }
 },
 "nbformat": 4,
 "nbformat_minor": 5
}
