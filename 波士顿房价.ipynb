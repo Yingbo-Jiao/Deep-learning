{
 "cells": [
  {
   "cell_type": "markdown",
   "id": "3bbb6cbf",
   "metadata": {},
   "source": [
    "### Data processing"
   ]
  },
  {
   "cell_type": "code",
   "execution_count": 37,
   "id": "bbe0cea9",
   "metadata": {
    "scrolled": true
   },
   "outputs": [],
   "source": [
    "from sklearn.preprocessing import LabelEncoder\n",
    "import pandas as pd\n",
    "\n",
    "def encode_categorical(df):\n",
    "    label_encoder = LabelEncoder()\n",
    "    for column in df.columns:\n",
    "        if df[column].dtype == 'object':\n",
    "            df[column] = label_encoder.fit_transform(df[column])\n",
    "        elif df[column].dtype == 'float64' or df[column].dtype == 'int64':\n",
    "            df[column] = df[column].fillna(df[column].mean())\n",
    "    return df\n",
    "\n",
    "df1 = pd.read_csv('train.csv')\n",
    "df1 = encode_categorical(df1)\n"
   ]
  },
  {
   "cell_type": "markdown",
   "id": "581c6a17",
   "metadata": {},
   "source": [
    "### Building dataset"
   ]
  },
  {
   "cell_type": "code",
   "execution_count": 38,
   "id": "f262afc0",
   "metadata": {},
   "outputs": [
    {
     "data": {
      "text/plain": [
       "1168"
      ]
     },
     "execution_count": 38,
     "metadata": {},
     "output_type": "execute_result"
    }
   ],
   "source": [
    "from sklearn.model_selection import train_test_split\n",
    "import torch.utils.data as Data\n",
    "import torch\n",
    "\n",
    "\n",
    "batch_sizes = 32\n",
    "\n",
    "x = df1.iloc[:,1:-1]\n",
    "y= df1.iloc[:,-1:]\n",
    "x_train, x_test, y_train, y_test = train_test_split(x, y, test_size=0.2, random_state=2004)\n",
    "\n",
    "x_train_tensor = torch.FloatTensor(x_train.values)\n",
    "y_train_tensor = torch.FloatTensor(y_train.values)\n",
    "x_test_tensor = torch.FloatTensor(x_test.values)\n",
    "y_test_tensor = torch.FloatTensor(y_test.values)\n",
    "\n",
    "train_dataset = Data.TensorDataset(x_train_tensor, y_train_tensor)\n",
    "test_dataset = Data.TensorDataset(x_test_tensor, y_test_tensor)\n",
    "\n",
    "train_dataloader = Data.DataLoader(train_dataset,batch_sizes,shuffle=True)\n",
    "test_dataloader = Data.DataLoader(test_dataset,batch_sizes,shuffle=True)\n",
    "len(train_dataset)"
   ]
  },
  {
   "cell_type": "markdown",
   "id": "e74eed53",
   "metadata": {},
   "source": [
    "### Model building"
   ]
  },
  {
   "cell_type": "code",
   "execution_count": 39,
   "id": "a45ed41c",
   "metadata": {},
   "outputs": [],
   "source": [
    "import torch.nn as nn\n",
    "\n",
    "class LinearNet(nn.Module):\n",
    "    def __init__(self, in_features, out_features):\n",
    "        super().__init__()\n",
    "        self.linear_1 = nn.Linear(in_features, 40)  # nn.Module\n",
    "        self.linear_2 = nn.Linear(40, 10)\n",
    "        self.linear_3 = nn.Linear(10, out_features)\n",
    "        self.sigmoid = nn.Sigmoid()  \n",
    "        \n",
    "    def forward(self, x):\n",
    "        x = self.linear_1(x)\n",
    "#         x = self.sigmoid(x)  \n",
    "        x = self.linear_2(x)\n",
    "#         x = self.sigmoid(x)\n",
    "        x = self.linear_3(x)\n",
    "        return x\n"
   ]
  },
  {
   "cell_type": "markdown",
   "id": "f9c0a17c",
   "metadata": {},
   "source": [
    "### Parameter determination\n"
   ]
  },
  {
   "cell_type": "code",
   "execution_count": 40,
   "id": "e11e4312",
   "metadata": {},
   "outputs": [],
   "source": [
    "import torch.optim as optim\n",
    "\n",
    "device = torch.device(\"cuda\" if torch.cuda.is_available() else \"cpu\")\n",
    "model = LinearNet(79,1).to(device)\n",
    "loss = nn.MSELoss()\n",
    "optimizer = optim.Adam(model.parameters(),lr=1e-3)\n"
   ]
  },
  {
   "cell_type": "markdown",
   "id": "0e19643f",
   "metadata": {},
   "source": [
    "### Model training"
   ]
  },
  {
   "cell_type": "code",
   "execution_count": 41,
   "id": "bd714e3f",
   "metadata": {},
   "outputs": [],
   "source": [
    "\n",
    "def train_model(model,dataloader):\n",
    "    model.train()\n",
    "    \n",
    "    total_loss = 0\n",
    "    for idx,(x,y) in enumerate(dataloader):\n",
    "        x = x.to(device)\n",
    "        y = y.to(device)\n",
    "        y_pred = model(x)\n",
    "        cur_loss = loss(y_pred,y)\n",
    "        optimizer.zero_grad()\n",
    "        cur_loss.backward()\n",
    "        optimizer.step()\n",
    "        \n",
    "        total_loss += cur_loss.item()\n",
    "    print(f\"train loss:{total_loss/len(train_dataset)}\")\n",
    "    "
   ]
  },
  {
   "cell_type": "markdown",
   "id": "fdcd3b99",
   "metadata": {
    "scrolled": false
   },
   "source": [
    "# Model testing"
   ]
  },
  {
   "cell_type": "code",
   "execution_count": 42,
   "id": "4aff9460",
   "metadata": {},
   "outputs": [],
   "source": [
    "\n",
    "def test_model(model, dataloader):\n",
    "    model.eval()\n",
    "\n",
    "    total_loss = 0.\n",
    "    for idx, (x, y) in enumerate(dataloader):\n",
    "        x = x.to(device)\n",
    "        y = y.to(device)\n",
    "        y_pred = model(x)\n",
    "        cur_loss = loss(y_pred, y)\n",
    "        total_loss += cur_loss.item()\n",
    "    print(f\"Test loss: {total_loss/len(test_dataset)}\")"
   ]
  },
  {
   "cell_type": "code",
   "execution_count": 43,
   "id": "4d04abf8",
   "metadata": {},
   "outputs": [
    {
     "name": "stdout",
     "output_type": "stream",
     "text": [
      "==== Epoch 0 ====\n",
      "train loss:1186687838.6849315\n",
      "Test loss: 1331636728.9863014\n",
      "==== Epoch 1 ====\n",
      "train loss:1090496941.589041\n",
      "Test loss: 1162788976.2191782\n",
      "==== Epoch 2 ====\n",
      "train loss:815934922.520548\n",
      "Test loss: 730908437.0410959\n",
      "==== Epoch 3 ====\n",
      "train loss:408323300.82191783\n",
      "Test loss: 302773237.4794521\n",
      "==== Epoch 4 ====\n",
      "train loss:223581846.3561644\n",
      "Test loss: 245777296.65753424\n",
      "==== Epoch 5 ====\n",
      "train loss:206090857.42465752\n",
      "Test loss: 262005866.95890412\n",
      "==== Epoch 6 ====\n",
      "train loss:187409255.67123288\n",
      "Test loss: 227957047.23287672\n",
      "==== Epoch 7 ====\n",
      "train loss:174027556.2739726\n",
      "Test loss: 194766521.31506848\n",
      "==== Epoch 8 ====\n",
      "train loss:166786495.34246576\n",
      "Test loss: 192137730.630137\n",
      "==== Epoch 9 ====\n",
      "train loss:152256171.06849316\n",
      "Test loss: 190870518.79452056\n",
      "==== Epoch 10 ====\n",
      "train loss:144467848.10958904\n",
      "Test loss: 176281371.61643836\n",
      "==== Epoch 11 ====\n",
      "train loss:137272158.41095892\n",
      "Test loss: 172699956.60273972\n",
      "==== Epoch 12 ====\n",
      "train loss:128359959.34246576\n",
      "Test loss: 161801737.20547944\n",
      "==== Epoch 13 ====\n",
      "train loss:122915282.08219178\n",
      "Test loss: 158314827.83561644\n",
      "==== Epoch 14 ====\n",
      "train loss:117725359.78082192\n",
      "Test loss: 151466082.630137\n",
      "==== Epoch 15 ====\n",
      "train loss:113213811.39726028\n",
      "Test loss: 221975811.50684932\n",
      "==== Epoch 16 ====\n",
      "train loss:107756894.35616438\n",
      "Test loss: 155917073.53424656\n",
      "==== Epoch 17 ====\n",
      "train loss:104391281.64383562\n",
      "Test loss: 274560573.8082192\n",
      "==== Epoch 18 ====\n",
      "train loss:100309574.73972602\n",
      "Test loss: 136269100.71232876\n",
      "==== Epoch 19 ====\n",
      "train loss:97642310.6849315\n",
      "Test loss: 132592019.78082192\n",
      "==== Epoch 20 ====\n",
      "train loss:93698153.20547946\n",
      "Test loss: 142639439.12328768\n",
      "==== Epoch 21 ====\n",
      "train loss:91729474.4109589\n",
      "Test loss: 139842603.39726028\n",
      "==== Epoch 22 ====\n",
      "train loss:91541705.64383562\n",
      "Test loss: 128668493.5890411\n",
      "==== Epoch 23 ====\n",
      "train loss:86725891.28767124\n",
      "Test loss: 125330751.56164384\n",
      "==== Epoch 24 ====\n",
      "train loss:84523125.91780822\n",
      "Test loss: 125189982.24657534\n",
      "==== Epoch 25 ====\n",
      "train loss:81810404.8219178\n",
      "Test loss: 178022075.1780822\n",
      "==== Epoch 26 ====\n",
      "train loss:80902160.10958904\n",
      "Test loss: 119639689.42465754\n",
      "==== Epoch 27 ====\n",
      "train loss:77680379.12328768\n",
      "Test loss: 130515113.64383562\n",
      "==== Epoch 28 ====\n",
      "train loss:75233004.87671232\n",
      "Test loss: 125369169.09589042\n",
      "==== Epoch 29 ====\n",
      "train loss:73513010.4109589\n",
      "Test loss: 116086354.19178082\n",
      "==== Epoch 30 ====\n",
      "train loss:72515267.39726028\n",
      "Test loss: 116123865.20547946\n",
      "==== Epoch 31 ====\n",
      "train loss:70485780.05479452\n",
      "Test loss: 114017883.1780822\n",
      "==== Epoch 32 ====\n",
      "train loss:68286001.09589042\n",
      "Test loss: 112157095.78082192\n",
      "==== Epoch 33 ====\n",
      "train loss:66415105.97260274\n",
      "Test loss: 113716178.19178082\n",
      "==== Epoch 34 ====\n",
      "train loss:65056353.20547945\n",
      "Test loss: 114831717.69863014\n",
      "==== Epoch 35 ====\n",
      "train loss:63833110.73972603\n",
      "Test loss: 118338616.98630136\n",
      "==== Epoch 36 ====\n",
      "train loss:62480882.30136986\n",
      "Test loss: 113483161.8630137\n",
      "==== Epoch 37 ====\n",
      "train loss:60734329.47945205\n",
      "Test loss: 110055076.05479452\n",
      "==== Epoch 38 ====\n",
      "train loss:59746548.08219178\n",
      "Test loss: 111326223.56164384\n",
      "==== Epoch 39 ====\n",
      "train loss:58178986.1369863\n",
      "Test loss: 111031065.20547946\n",
      "==== Epoch 40 ====\n",
      "train loss:57043048.10958904\n",
      "Test loss: 129000917.0410959\n",
      "==== Epoch 41 ====\n",
      "train loss:56093533.04109589\n",
      "Test loss: 115372741.91780822\n",
      "==== Epoch 42 ====\n",
      "train loss:55202582.90410959\n",
      "Test loss: 121367415.23287672\n",
      "==== Epoch 43 ====\n",
      "train loss:54253314.73972603\n",
      "Test loss: 124087421.5890411\n",
      "==== Epoch 44 ====\n",
      "train loss:55592424.21917808\n",
      "Test loss: 112742979.28767124\n",
      "==== Epoch 45 ====\n",
      "train loss:52779225.39726027\n",
      "Test loss: 114129394.84931506\n",
      "==== Epoch 46 ====\n",
      "train loss:52637404.43835616\n",
      "Test loss: 111639232.38356164\n",
      "==== Epoch 47 ====\n",
      "train loss:51688647.34246575\n",
      "Test loss: 117204085.91780822\n",
      "==== Epoch 48 ====\n",
      "train loss:51523469.04109589\n",
      "Test loss: 114015648.43835616\n",
      "==== Epoch 49 ====\n",
      "train loss:51357635.26027397\n",
      "Test loss: 113504365.26027398\n"
     ]
    }
   ],
   "source": [
    "num_epoch = 50\n",
    "for i in range(num_epoch):\n",
    "    print(f\"==== Epoch {i} ====\")\n",
    "    train_model(model, train_dataloader)\n",
    "    test_model(model, test_dataloader)"
   ]
  },
  {
   "cell_type": "code",
   "execution_count": null,
   "id": "1a7fc4d4",
   "metadata": {},
   "outputs": [],
   "source": []
  },
  {
   "cell_type": "code",
   "execution_count": null,
   "id": "6f2a33a8",
   "metadata": {},
   "outputs": [],
   "source": []
  }
 ],
 "metadata": {
  "kernelspec": {
   "display_name": "Python 3",
   "language": "python",
   "name": "python3"
  },
  "language_info": {
   "codemirror_mode": {
    "name": "ipython",
    "version": 3
   },
   "file_extension": ".py",
   "mimetype": "text/x-python",
   "name": "python",
   "nbconvert_exporter": "python",
   "pygments_lexer": "ipython3",
   "version": "3.8.8"
  }
 },
 "nbformat": 4,
 "nbformat_minor": 5
}
